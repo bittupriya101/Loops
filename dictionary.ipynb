{
 "cells": [
  {
   "cell_type": "code",
   "execution_count": 13,
   "metadata": {},
   "outputs": [],
   "source": [
    "# dictionary\n",
    "fruits = { \n",
    "    \"apple\": 2, \n",
    "    \"banana\": 3,\n",
    "    \"orange\": 5\n",
    "}"
   ]
  },
  {
   "cell_type": "code",
   "execution_count": 14,
   "metadata": {},
   "outputs": [],
   "source": [
    "grocery = {\n",
    "    'fruits':['apple', 'banana','orange','grape',],\n",
    "    'vegetable':['onion','carrot','lettuce'],\n",
    "    'dairy':['chees','milk','yogurt'],\n",
    "    'meat': None     \n",
    "    \n",
    "}"
   ]
  },
  {
   "cell_type": "code",
   "execution_count": 15,
   "metadata": {},
   "outputs": [],
   "source": [
    "reports = {\n",
    "    'rajesh': {\n",
    "        'Englisrh': 90,\n",
    "        'Math': 80,\n",
    "        'Science': 70\n",
    "    },\n",
    "    'Suresh': {\n",
    "        'English': 80,\n",
    "        'Math': 75,\n",
    "        'Science': 68\n",
    "    },\n",
    "    \n",
    "}"
   ]
  },
  {
   "cell_type": "code",
   "execution_count": 16,
   "metadata": {},
   "outputs": [
    {
     "name": "stdout",
     "output_type": "stream",
     "text": [
      "{'apple': 2, 'banana': 3, 'orange': 5}\n",
      "{'fruits': ['apple', 'banana', 'orange', 'grape'], 'vegetable': ['onion', 'carrot', 'lettuce'], 'dairy': ['chees', 'milk', 'yogurt'], 'meat': None}\n",
      "{'rajesh': {'Englisrh': 90, 'Math': 80, 'Science': 70}, 'Suresh': {'English': 80, 'Math': 75, 'Science': 68}}\n"
     ]
    }
   ],
   "source": [
    "print(fruits)\n",
    "print(grocery)\n",
    "print(reports)"
   ]
  },
  {
   "cell_type": "code",
   "execution_count": 17,
   "metadata": {},
   "outputs": [],
   "source": [
    "from  pprint import pp"
   ]
  },
  {
   "cell_type": "code",
   "execution_count": 18,
   "metadata": {},
   "outputs": [
    {
     "name": "stdout",
     "output_type": "stream",
     "text": [
      "{'apple': 2, 'banana': 3, 'orange': 5}\n",
      "{'fruits': ['apple', 'banana', 'orange', 'grape'],\n",
      " 'vegetable': ['onion', 'carrot', 'lettuce'],\n",
      " 'dairy': ['chees', 'milk', 'yogurt'],\n",
      " 'meat': None}\n",
      "{'rajesh': {'Englisrh': 90, 'Math': 80, 'Science': 70},\n",
      " 'Suresh': {'English': 80, 'Math': 75, 'Science': 68}}\n"
     ]
    }
   ],
   "source": [
    "pp(fruits)\n",
    "pp(grocery)\n",
    "pp(reports)"
   ]
  },
  {
   "cell_type": "code",
   "execution_count": 20,
   "metadata": {},
   "outputs": [
    {
     "data": {
      "text/plain": [
       "2"
      ]
     },
     "execution_count": 20,
     "metadata": {},
     "output_type": "execute_result"
    }
   ],
   "source": [
    "fruits ['apple'] # retrieve value from dictionary"
   ]
  },
  {
   "cell_type": "code",
   "execution_count": 21,
   "metadata": {},
   "outputs": [
    {
     "name": "stdout",
     "output_type": "stream",
     "text": [
      "{'apple': 10, 'banana': 3, 'orange': 5}\n"
     ]
    }
   ],
   "source": [
    "fruits ['apple'] = 10 # udate value from dictionary\n",
    "pp(fruits)"
   ]
  },
  {
   "cell_type": "code",
   "execution_count": 22,
   "metadata": {},
   "outputs": [
    {
     "name": "stdout",
     "output_type": "stream",
     "text": [
      "{'apple': 10, 'banana': 3, 'orange': 5, 'mango': 25}\n"
     ]
    }
   ],
   "source": [
    "fruits ['mango'] = 25 # add new key-value pair in  dictionary\n",
    "pp(fruits)"
   ]
  },
  {
   "cell_type": "code",
   "execution_count": 23,
   "metadata": {},
   "outputs": [
    {
     "name": "stdout",
     "output_type": "stream",
     "text": [
      "{'fruits': ['apple', 'banana', 'orange', 'grape'],\n",
      " 'vegetable': ['onion', 'carrot', 'lettuce'],\n",
      " 'dairy': ['chees', 'milk', 'yogurt'],\n",
      " 'meat': None,\n",
      " 'spices': ['cumin', 'coriander', 'turmeric']}\n"
     ]
    }
   ],
   "source": [
    "grocery['spices'] = ['cumin','coriander','turmeric'] # add new key-value pair in dictionary\n",
    "pp(grocery)"
   ]
  },
  {
   "cell_type": "code",
   "execution_count": 24,
   "metadata": {},
   "outputs": [
    {
     "name": "stdout",
     "output_type": "stream",
     "text": [
      "{'fruits': ['apple', 'banana', 'orange', 'grape', 'mango'],\n",
      " 'vegetable': ['onion', 'carrot', 'lettuce'],\n",
      " 'dairy': ['chees', 'milk', 'yogurt'],\n",
      " 'meat': None,\n",
      " 'spices': ['cumin', 'coriander', 'turmeric']}\n"
     ]
    }
   ],
   "source": [
    "grocery['fruits'].append('mango') # add new value in list \n",
    "pp(grocery) "
   ]
  },
  {
   "cell_type": "code",
   "execution_count": 25,
   "metadata": {},
   "outputs": [
    {
     "name": "stdout",
     "output_type": "stream",
     "text": [
      "{'rajesh': {'Englisrh': 90, 'Math': 80, 'Science': 70, 'evs': 98},\n",
      " 'Suresh': {'English': 80, 'Math': 75, 'Science': 68}}\n"
     ]
    }
   ],
   "source": [
    "reports['rajesh']['evs'] = 98\n",
    "pp(reports)"
   ]
  },
  {
   "cell_type": "code",
   "execution_count": 26,
   "metadata": {},
   "outputs": [
    {
     "data": {
      "text/plain": [
       "3"
      ]
     },
     "execution_count": 26,
     "metadata": {},
     "output_type": "execute_result"
    }
   ],
   "source": [
    "fruits.pop('banana') # remove key-value pair from dictonary"
   ]
  },
  {
   "cell_type": "code",
   "execution_count": 29,
   "metadata": {},
   "outputs": [
    {
     "data": {
      "text/plain": [
       "{'Englisrh': 90, 'Math': 80, 'Science': 70, 'evs': 98}"
      ]
     },
     "execution_count": 29,
     "metadata": {},
     "output_type": "execute_result"
    }
   ],
   "source": [
    "reports.pop('rajesh') # remove key-value pair from dictionary"
   ]
  },
  {
   "cell_type": "code",
   "execution_count": 30,
   "metadata": {},
   "outputs": [
    {
     "data": {
      "text/plain": [
       "{'Suresh': {'English': 80, 'Math': 75, 'Science': 68}}"
      ]
     },
     "execution_count": 30,
     "metadata": {},
     "output_type": "execute_result"
    }
   ],
   "source": [
    "reports"
   ]
  },
  {
   "cell_type": "code",
   "execution_count": 31,
   "metadata": {},
   "outputs": [
    {
     "name": "stdout",
     "output_type": "stream",
     "text": [
      "{'fruits': ['apple', 'banana', 'orange', 'grape', 'mango'],\n",
      " 'vegetable': ['onion', 'carrot', 'lettuce'],\n",
      " 'dairy': ['chees', 'milk', 'yogurt'],\n",
      " 'meat': None,\n",
      " 'spices': ['cumin', 'coriander', 'turmeric']}\n"
     ]
    }
   ],
   "source": [
    "pp(grocery)"
   ]
  },
  {
   "cell_type": "code",
   "execution_count": 32,
   "metadata": {},
   "outputs": [],
   "source": [
    "grocery['vegetable'].remove('onion') # remove value from list"
   ]
  },
  {
   "cell_type": "code",
   "execution_count": 27,
   "metadata": {},
   "outputs": [
    {
     "data": {
      "text/plain": [
       "dict_keys(['apple', 'orange', 'mango'])"
      ]
     },
     "execution_count": 27,
     "metadata": {},
     "output_type": "execute_result"
    }
   ],
   "source": [
    "fruits.keys() # get all keys from dictionary"
   ]
  },
  {
   "cell_type": "code",
   "execution_count": 28,
   "metadata": {},
   "outputs": [
    {
     "data": {
      "text/plain": [
       "dict_values([10, 5, 25])"
      ]
     },
     "execution_count": 28,
     "metadata": {},
     "output_type": "execute_result"
    }
   ],
   "source": [
    "fruits.values() # get all values from dictionary"
   ]
  },
  {
   "cell_type": "code",
   "execution_count": 34,
   "metadata": {},
   "outputs": [
    {
     "data": {
      "text/plain": [
       "dict_items([('apple', 10), ('orange', 5), ('mango', 25)])"
      ]
     },
     "execution_count": 34,
     "metadata": {},
     "output_type": "execute_result"
    }
   ],
   "source": [
    "fruits.items() # get all key-value pairs from dictonary"
   ]
  },
  {
   "cell_type": "code",
   "execution_count": null,
   "metadata": {},
   "outputs": [],
   "source": [
    "# traversal"
   ]
  },
  {
   "cell_type": "code",
   "execution_count": 33,
   "metadata": {},
   "outputs": [
    {
     "name": "stdout",
     "output_type": "stream",
     "text": [
      "apple 10\n",
      "orange 5\n",
      "mango 25\n"
     ]
    }
   ],
   "source": [
    "for k,v in fruits.items(): \n",
    "    print(k,v)"
   ]
  },
  {
   "cell_type": "code",
   "execution_count": 35,
   "metadata": {},
   "outputs": [
    {
     "data": {
      "text/plain": [
       "80"
      ]
     },
     "execution_count": 35,
     "metadata": {},
     "output_type": "execute_result"
    }
   ],
   "source": [
    "reports['Suresh']['English']"
   ]
  },
  {
   "cell_type": "code",
   "execution_count": 36,
   "metadata": {},
   "outputs": [
    {
     "data": {
      "text/plain": [
       "{'English': 80, 'Math': 75, 'Science': 68}"
      ]
     },
     "execution_count": 36,
     "metadata": {},
     "output_type": "execute_result"
    }
   ],
   "source": [
    "reports.get('Suresh')"
   ]
  },
  {
   "cell_type": "code",
   "execution_count": 37,
   "metadata": {},
   "outputs": [],
   "source": [
    "reports.get('ramesh')"
   ]
  },
  {
   "cell_type": "code",
   "execution_count": 38,
   "metadata": {},
   "outputs": [
    {
     "data": {
      "text/plain": [
       "'this student not coming'"
      ]
     },
     "execution_count": 38,
     "metadata": {},
     "output_type": "execute_result"
    }
   ],
   "source": [
    "reports.get('ramesh','this student not coming')"
   ]
  },
  {
   "cell_type": "code",
   "execution_count": 39,
   "metadata": {},
   "outputs": [
    {
     "data": {
      "text/plain": [
       "{'English': 80, 'Math': 75, 'Science': 68}"
      ]
     },
     "execution_count": 39,
     "metadata": {},
     "output_type": "execute_result"
    }
   ],
   "source": [
    "reports.get('Suresh','this student not coming')"
   ]
  },
  {
   "cell_type": "code",
   "execution_count": 40,
   "metadata": {},
   "outputs": [
    {
     "name": "stdout",
     "output_type": "stream",
     "text": [
      "{'Suresh': {'English': 80, 'Math': 75, 'Science': 68},\n",
      " 'sunita': {'English': 90, 'Math': 85, 'Science': 78}}\n"
     ]
    }
   ],
   "source": [
    "reports['sunita'] = {\n",
    "    'English': 90,\n",
    "    'Math': 85,\n",
    "    'Science': 78\n",
    "}\n",
    "pp(reports)"
   ]
  },
  {
   "cell_type": "code",
   "execution_count": 41,
   "metadata": {},
   "outputs": [
    {
     "name": "stdout",
     "output_type": "stream",
     "text": [
      "Suresh\n",
      "80 in English\n",
      "75 in Math\n",
      "68 in Science\n",
      "------------------------------\n",
      "sunita\n",
      "90 in English\n",
      "85 in Math\n",
      "78 in Science\n",
      "------------------------------\n"
     ]
    }
   ],
   "source": [
    "for student, details in reports.items():\n",
    "    print(student)\n",
    "    for subject,marks in details.items():\n",
    "        print(f'{marks} in {subject}')\n",
    "    print('---' *10)"
   ]
  },
  {
   "cell_type": "code",
   "execution_count": 42,
   "metadata": {},
   "outputs": [
    {
     "name": "stdout",
     "output_type": "stream",
     "text": [
      "{'name': 'Ramesh', 'department': 'DS', 'Salary': 25000, 'skills': ['communication', 'management'], 'projects': {'project1': {'project_name': 'ABCD', 'project_duration': 6, 'project_technologies': ['excel', 'power bi', 'powerpoint']}}}\n",
      "{'name': 'Ram', 'department': 'SD2', 'salary': 50000, 'skills': ['html', 'css', 'js'], 'projects': {'project1': {'project_name': 'HRMS', 'project_duration': 6, 'project_technologies': ['python', 'java', 'php']}}}\n",
      "{'name': 'Rahul', 'department': 'SE', 'salary': 40000, 'skills': ['reactjs', 'nodejs'], 'projects': {'project1': {'project_name': 'HRMS', 'project_duration': 6, 'project_technologies': ['excel', 'power bi', 'tableau']}}}\n",
      "{'name': 'Ravi', 'department': 'SD1', 'salary': 30000, 'skills': ['java', 'DSA'], 'projects': {'project1': {'project_name': 'HRMS', 'project_duration': 6, 'project_technologies': ['SQL', 'DBMS', 'Mongodb']}}}\n",
      "{'name': 'Raju', 'department': 'SD', 'salary': 20000, 'skills': ['html', 'css', 'javascript'], 'projects': {'project1': {'project_name': 'ABCD', 'project_duration': 6, 'project_technologies': ['nodejs', 'SQL']}}}\n"
     ]
    }
   ],
   "source": [
    "emps = { \n",
    "    'emp1': {\n",
    "        'name' : 'Ramesh',\n",
    "        'department': 'DS',\n",
    "        'Salary':  25000,\n",
    "        'skills': ['communication','management'],\n",
    "        'projects': {\n",
    "            'project1':{\n",
    "                'project_name': 'ABCD',\n",
    "                'project_duration': 6,\n",
    "                'project_technologies':['excel','power bi','powerpoint']\n",
    "            },\n",
    "        },\n",
    "    },\n",
    "    'emp2': {\n",
    "        'name' : 'Ram',\n",
    "        'department': 'SD2',\n",
    "        'salary': 50000,\n",
    "        'skills': ['html','css','js'],\n",
    "        'projects': {\n",
    "            'project1':{\n",
    "                'project_name': 'HRMS',\n",
    "                'project_duration': 6,\n",
    "                'project_technologies':['python','java','php']\n",
    "            },\n",
    "        }\n",
    "    },\n",
    "    'emp3': {\n",
    "        'name' : 'Rahul',\n",
    "        'department': 'SE',\n",
    "        'salary': 40000,\n",
    "        'skills': ['reactjs','nodejs'],\n",
    "        'projects': {\n",
    "            'project1':{\n",
    "                'project_name': 'HRMS',\n",
    "                'project_duration': 6,\n",
    "                'project_technologies':['excel','power bi','tableau']\n",
    "            },\n",
    "        }\n",
    "    },\n",
    "    'emp4': {\n",
    "        'name' : 'Ravi',\n",
    "        'department': 'SD1',\n",
    "        'salary': 30000,\n",
    "        'skills': ['java','DSA'],\n",
    "        'projects': {\n",
    "            'project1':{\n",
    "                'project_name': 'HRMS',\n",
    "                'project_duration': 6,\n",
    "                'project_technologies':['SQL','DBMS','Mongodb']\n",
    "            },\n",
    "        }\n",
    "    },\n",
    "    'emp5': {\n",
    "        'name' : 'Raju',\n",
    "        'department': 'SD',\n",
    "        'salary': 20000,\n",
    "        'skills': ['html','css','javascript'],\n",
    "        'projects': {\n",
    "            'project1':{\n",
    "                'project_name': 'ABCD',\n",
    "                'project_duration': 6,\n",
    "                'project_technologies':['nodejs','SQL']\n",
    "            },\n",
    "        }\n",
    "    },\n",
    "    }\n",
    "print(emps['emp1'])\n",
    "print(emps['emp2'])\n",
    "print(emps['emp3'])\n",
    "print(emps['emp4'])\n",
    "print(emps['emp5'])\n",
    "\n",
    "\n"
   ]
  }
 ],
 "metadata": {
  "kernelspec": {
   "display_name": "Python 3",
   "language": "python",
   "name": "python3"
  },
  "language_info": {
   "codemirror_mode": {
    "name": "ipython",
    "version": 3
   },
   "file_extension": ".py",
   "mimetype": "text/x-python",
   "name": "python",
   "nbconvert_exporter": "python",
   "pygments_lexer": "ipython3",
   "version": "3.11.4"
  },
  "orig_nbformat": 4
 },
 "nbformat": 4,
 "nbformat_minor": 2
}

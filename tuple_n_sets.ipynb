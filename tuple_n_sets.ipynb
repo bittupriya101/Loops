{
 "cells": [
  {
   "cell_type": "code",
   "execution_count": 2,
   "metadata": {},
   "outputs": [
    {
     "name": "stdout",
     "output_type": "stream",
     "text": [
      "(1, 2, 3)\n",
      "<class 'tuple'>\n"
     ]
    }
   ],
   "source": [
    "x = (1,2,3)\n",
    "print(x)\n",
    "print(type(x))"
   ]
  },
  {
   "cell_type": "code",
   "execution_count": 8,
   "metadata": {},
   "outputs": [
    {
     "name": "stdout",
     "output_type": "stream",
     "text": [
      "(12, 14, 50)\n",
      "<class 'tuple'>\n"
     ]
    }
   ],
   "source": [
    "a = 12, 14, 50 # tuple packing\n",
    "print(a)\n",
    "print(type(a))"
   ]
  },
  {
   "cell_type": "code",
   "execution_count": 2,
   "metadata": {},
   "outputs": [
    {
     "name": "stdout",
     "output_type": "stream",
     "text": [
      "(14,)\n",
      "<class 'tuple'>\n"
     ]
    }
   ],
   "source": [
    "# single element tuple \n",
    "b = (14,)\n",
    "print(b)\n",
    "print(type(b))"
   ]
  },
  {
   "cell_type": "code",
   "execution_count": 9,
   "metadata": {},
   "outputs": [
    {
     "name": "stdout",
     "output_type": "stream",
     "text": [
      "12 14 50\n"
     ]
    }
   ],
   "source": [
    "# tuple unpacking \n",
    "x1,  x2,  x3, = a \n",
    "print(x1,x2,x3,)\n"
   ]
  },
  {
   "cell_type": "code",
   "execution_count": 17,
   "metadata": {},
   "outputs": [
    {
     "name": "stdout",
     "output_type": "stream",
     "text": [
      "1 2 [3, 4, 5, 12, 14, 16, 20]\n"
     ]
    }
   ],
   "source": [
    "# tuple unpacking \n",
    "a = (1,2,3,4,5,12,14,16,20)\n",
    "a1,  a2,  *a3, = a # a3 will get the remaining elements as a list \n",
    "print(a1,a2,a3)"
   ]
  },
  {
   "cell_type": "code",
   "execution_count": 19,
   "metadata": {},
   "outputs": [
    {
     "data": {
      "text/plain": [
       "(4, 5, 12, 14, 16, 20)"
      ]
     },
     "execution_count": 19,
     "metadata": {},
     "output_type": "execute_result"
    }
   ],
   "source": [
    "a[-6:] # slicing\n"
   ]
  },
  {
   "cell_type": "code",
   "execution_count": 22,
   "metadata": {},
   "outputs": [
    {
     "name": "stdout",
     "output_type": "stream",
     "text": [
      "1\n",
      "2\n",
      "3\n",
      "4\n",
      "5\n",
      "12\n",
      "14\n",
      "16\n",
      "20\n"
     ]
    }
   ],
   "source": [
    "for i in a:\n",
    "    print(i)\n"
   ]
  },
  {
   "cell_type": "code",
   "execution_count": 25,
   "metadata": {},
   "outputs": [
    {
     "name": "stdout",
     "output_type": "stream",
     "text": [
      "4\n",
      "3\n",
      "0\n",
      "2\n",
      "7\n"
     ]
    }
   ],
   "source": [
    "x = (1,2,3,1,3,1,2,3,1,2,3)\n",
    "print(x.count(1))\n",
    "print(x.count(2))\n",
    "print(x.count(5))\n",
    "print(x.index(3))\n",
    "print(x.index(3,5))\n"
   ]
  },
  {
   "cell_type": "code",
   "execution_count": 27,
   "metadata": {},
   "outputs": [
    {
     "name": "stdout",
     "output_type": "stream",
     "text": [
      "(1, 2, 3, 4)\n",
      "[1, 2, 3, 4]\n"
     ]
    }
   ],
   "source": [
    "a = [1,2,3,4]\n",
    "at = tuple(a)\n",
    "al = list(at)\n",
    "print(at)\n",
    "print(al)\n"
   ]
  },
  {
   "cell_type": "code",
   "execution_count": 28,
   "metadata": {},
   "outputs": [
    {
     "name": "stdout",
     "output_type": "stream",
     "text": [
      "{1, 2, 3, 4, 5, 6, 7, 8, 9}\n",
      "<class 'set'>\n"
     ]
    }
   ],
   "source": [
    "s = {1,2,3,4,5,6,7,8,9}\n",
    "print(s)\n",
    "print(type(s))"
   ]
  },
  {
   "cell_type": "code",
   "execution_count": 32,
   "metadata": {},
   "outputs": [
    {
     "name": "stdout",
     "output_type": "stream",
     "text": [
      "set()\n",
      "<class 'set'>\n"
     ]
    }
   ],
   "source": [
    "s1 = set()\n",
    "print(s1)\n",
    "print(type(s1))"
   ]
  },
  {
   "cell_type": "code",
   "execution_count": 33,
   "metadata": {},
   "outputs": [
    {
     "name": "stdout",
     "output_type": "stream",
     "text": [
      "{'all', 3, 4, 'hello'}\n"
     ]
    }
   ],
   "source": [
    "s1.add(3)\n",
    "s1.add(4)\n",
    "s1.add('hello')\n",
    "s1.add('all')\n",
    "s1.add(3)\n",
    "print(s1)"
   ]
  },
  {
   "cell_type": "code",
   "execution_count": 34,
   "metadata": {},
   "outputs": [
    {
     "name": "stdout",
     "output_type": "stream",
     "text": [
      "{'all', 4, 'hello'}\n"
     ]
    }
   ],
   "source": [
    "s1.discard(3)\n",
    "print(s1)"
   ]
  },
  {
   "cell_type": "code",
   "execution_count": 35,
   "metadata": {},
   "outputs": [
    {
     "name": "stdout",
     "output_type": "stream",
     "text": [
      "all\n",
      "4\n",
      "hello\n"
     ]
    }
   ],
   "source": [
    "for i in s1:\n",
    "    print(i)\n"
   ]
  },
  {
   "cell_type": "code",
   "execution_count": 36,
   "metadata": {},
   "outputs": [
    {
     "name": "stdout",
     "output_type": "stream",
     "text": [
      "{'a', 'u', 'r', 'M', 'i', 'P', 'y', ' '}\n"
     ]
    }
   ],
   "source": [
    "name = set ('Priya Maurya')\n",
    "print(name)"
   ]
  },
  {
   "cell_type": "code",
   "execution_count": 40,
   "metadata": {},
   "outputs": [],
   "source": [
    "# set operations \n",
    "group1 = {'apple','banana','orange','grapes','mango','watermelon','pineapple'}\n",
    "group2 = {'apple','grapes','mango', 'kiwi','papaya','cherry','watermelon','pineapple'}"
   ]
  },
  {
   "cell_type": "code",
   "execution_count": 41,
   "metadata": {},
   "outputs": [
    {
     "name": "stdout",
     "output_type": "stream",
     "text": [
      "{'watermelon', 'apple', 'pineapple', 'papaya', 'cherry', 'kiwi', 'banana', 'grapes', 'orange', 'mango'}\n",
      "{'watermelon', 'apple', 'pineapple', 'papaya', 'cherry', 'kiwi', 'banana', 'grapes', 'orange', 'mango'}\n"
     ]
    }
   ],
   "source": [
    "# union\n",
    "print(group1 | group2)\n",
    "print(group1.union(group2))"
   ]
  },
  {
   "cell_type": "code",
   "execution_count": 43,
   "metadata": {},
   "outputs": [
    {
     "name": "stdout",
     "output_type": "stream",
     "text": [
      "{'watermelon', 'pineapple', 'grapes', 'apple', 'mango'}\n",
      "{'watermelon', 'pineapple', 'grapes', 'apple', 'mango'}\n"
     ]
    }
   ],
   "source": [
    "# intersection\n",
    "print(group1 & group2)\n",
    "print(group1.intersection(group2))"
   ]
  },
  {
   "cell_type": "code",
   "execution_count": 42,
   "metadata": {},
   "outputs": [
    {
     "name": "stdout",
     "output_type": "stream",
     "text": [
      "{'banana', 'orange'}\n",
      "{'kiwi', 'cherry', 'papaya'}\n",
      "{'kiwi', 'cherry', 'papaya'}\n"
     ]
    }
   ],
   "source": [
    "# difference \n",
    "print(group1 - group2)\n",
    "print(group2 - group1)\n",
    "print(group2.difference(group1))\n"
   ]
  },
  {
   "cell_type": "code",
   "execution_count": 44,
   "metadata": {},
   "outputs": [
    {
     "name": "stdout",
     "output_type": "stream",
     "text": [
      "{'orange', 'papaya', 'cherry', 'kiwi', 'banana'}\n",
      "{'orange', 'papaya', 'cherry', 'kiwi', 'banana'}\n"
     ]
    }
   ],
   "source": [
    "# symmetric difference\n",
    "print(group1 ^ group2 )\n",
    "print(group1.symmetric_difference(group2))"
   ]
  },
  {
   "cell_type": "code",
   "execution_count": 49,
   "metadata": {},
   "outputs": [],
   "source": [
    "# task \n",
    "reports = [    \n",
    "['Ram',[['Math',95],['Science',90],['English',89],]],\n",
    "['Sohan',[['Math',92],['Science',98],['English',96],]], \n",
    "['Mohan',[['Math',97],['Science',99],['English',94],]],\n",
    "['Ramesh',[['Math',87],['Science',98],['English',99],]],\n",
    "['Ravi',[['Math',87],['Science',98],['English',99],]],\n",
    "['Ratna',[['Math',87],['Science',98],['English',99],]],\n",
    "['Raju',[['Math',87],['Science',98],['English',99],]],\n",
    "['Raunit',[['Math',87],['Science',98],['English',99],]],\n",
    "]\n",
    "\n"
   ]
  },
  {
   "cell_type": "code",
   "execution_count": 50,
   "metadata": {},
   "outputs": [
    {
     "name": "stdout",
     "output_type": "stream",
     "text": [
      "Ram\n",
      "Math 95\n",
      "Science 90\n",
      "English 89\n",
      "Sohan\n",
      "Math 92\n",
      "Science 98\n",
      "English 96\n",
      "Mohan\n",
      "Math 97\n",
      "Science 99\n",
      "English 94\n",
      "Ramesh\n",
      "Math 87\n",
      "Science 98\n",
      "English 99\n",
      "Ravi\n",
      "Math 87\n",
      "Science 98\n",
      "English 99\n",
      "Ratna\n",
      "Math 87\n",
      "Science 98\n",
      "English 99\n",
      "Raju\n",
      "Math 87\n",
      "Science 98\n",
      "English 99\n",
      "Raunit\n",
      "Math 87\n",
      "Science 98\n",
      "English 99\n"
     ]
    }
   ],
   "source": [
    "for student in reports:\n",
    "    for detail in student:\n",
    "        if isinstance(detail, str):\n",
    "             print(detail)\n",
    "        if isinstance(detail,list):\n",
    "            for subject in detail:\n",
    "                print(subject[0], subject[1])\n"
   ]
  }
 ],
 "metadata": {
  "kernelspec": {
   "display_name": "Python 3",
   "language": "python",
   "name": "python3"
  },
  "language_info": {
   "codemirror_mode": {
    "name": "ipython",
    "version": 3
   },
   "file_extension": ".py",
   "mimetype": "text/x-python",
   "name": "python",
   "nbconvert_exporter": "python",
   "pygments_lexer": "ipython3",
   "version": "3.11.4"
  },
  "orig_nbformat": 4
 },
 "nbformat": 4,
 "nbformat_minor": 2
}
